{
 "cells": [
  {
   "cell_type": "code",
   "execution_count": 1,
   "metadata": {},
   "outputs": [
    {
     "name": "stdout",
     "output_type": "stream",
     "text": [
      "Bash backup script created at: backups/backup_2024-10-04_22-22-01.sh\n"
     ]
    }
   ],
   "source": [
    "import os\n",
    "import datetime\n",
    "\n",
    "# Define the directory to scan\n",
    "directory_to_scan = \"backend\"\n",
    "\n",
    "# Define the output directory for the backup scripts\n",
    "backup_directory = \"backups\"\n",
    "os.makedirs(backup_directory, exist_ok=True)\n",
    "\n",
    "# Get the current date and time for naming the backup scripts\n",
    "current_date = datetime.datetime.now().strftime(\"%Y-%m-%d_%H-%M-%S\")\n",
    "\n",
    "# Define the path to save the final bash script\n",
    "backup_script_filename = f\"backup_{current_date}.sh\"\n",
    "backup_script_path = os.path.join(backup_directory, backup_script_filename)\n",
    "\n",
    "# List of folders to skip\n",
    "folders_to_skip = [\"node_modules\", \"locked_packages\"]\n",
    "\n",
    "# Create the bash script\n",
    "with open(backup_script_path, 'w') as bash_script:\n",
    "    bash_script.write(\"#!/bin/bash\\n\\n\")\n",
    "    bash_script.write(f\"# Backup script created on {current_date}\\n\\n\")\n",
    "    \n",
    "    for root, dirs, files in os.walk(directory_to_scan, topdown=True):\n",
    "        # Skip specified directories\n",
    "        dirs[:] = [d for d in dirs if d not in folders_to_skip]\n",
    "        \n",
    "        # Backup the directory itself\n",
    "        rel_path = os.path.relpath(root, directory_to_scan)\n",
    "        if rel_path != \".\":\n",
    "            bash_script.write(f\"mkdir -p backups/{rel_path}\\n\")\n",
    "        \n",
    "        for file in files:\n",
    "            file_path = os.path.join(root, file)\n",
    "            rel_file_path = os.path.relpath(file_path, directory_to_scan)\n",
    "            \n",
    "            # Skip hidden files (optional) or add other conditions as needed\n",
    "            if file.startswith('.'):\n",
    "                continue\n",
    "\n",
    "            # Write the cp command to backup the file\n",
    "            bash_script.write(f\"cp '{file_path}' 'backups/{rel_file_path}'\\n\")\n",
    "\n",
    "print(f\"Bash backup script created at: {backup_script_path}\")\n"
   ]
  }
 ],
 "metadata": {
  "kernelspec": {
   "display_name": "Python 3",
   "language": "python",
   "name": "python3"
  },
  "language_info": {
   "codemirror_mode": {
    "name": "ipython",
    "version": 3
   },
   "file_extension": ".py",
   "mimetype": "text/x-python",
   "name": "python",
   "nbconvert_exporter": "python",
   "pygments_lexer": "ipython3",
   "version": "3.11.9"
  }
 },
 "nbformat": 4,
 "nbformat_minor": 2
}
