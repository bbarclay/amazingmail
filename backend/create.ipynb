{
 "cells": [
  {
   "cell_type": "code",
   "execution_count": 1,
   "metadata": {},
   "outputs": [
    {
     "name": "stdout",
     "output_type": "stream",
     "text": [
      "Script 'recreate_files.sh' has been generated successfully.\n"
     ]
    }
   ],
   "source": [
    "import os\n",
    "\n",
    "# Name of the output script file\n",
    "output_script = \"recreate_files.sh\"\n",
    "\n",
    "# Directories or files to ignore\n",
    "ignore_dirs = [\"node_modules\", \".git\"]\n",
    "ignore_files = [\".lock\", \".log\", \".tsbuildinfo\"]\n",
    "\n",
    "# Open the output script file in write mode\n",
    "with open(output_script, \"w\") as script_file:\n",
    "    # Add the shebang and header to the script file\n",
    "    script_file.write(\"#!/bin/bash\\n\")\n",
    "    script_file.write(\"# This script will recreate the entire project structure and contents\\n\\n\")\n",
    "\n",
    "    # Walk through the directory structure\n",
    "    for root, dirs, files in os.walk(\".\"):\n",
    "        # Exclude the directories specified in ignore_dirs\n",
    "        dirs[:] = [d for d in dirs if d not in ignore_dirs]\n",
    "        \n",
    "        # Write mkdir commands for directories\n",
    "        for dir_name in dirs:\n",
    "            # Get the relative directory path and escape spaces\n",
    "            dir_path = os.path.relpath(os.path.join(root, dir_name))\n",
    "            script_file.write(f\"mkdir -p \\\"{dir_path}\\\"\\n\")\n",
    "            script_file.write(f\"echo \\\"Directory created: {dir_path}\\\"\\n\\n\")\n",
    "\n",
    "        # Write touch and content creation commands for each file\n",
    "        for file_name in files:\n",
    "            # Skip files matching any patterns in ignore_files\n",
    "            if any(file_name.endswith(pattern) for pattern in ignore_files):\n",
    "                continue\n",
    "\n",
    "            # Get the relative file path and escape spaces\n",
    "            file_path = os.path.relpath(os.path.join(root, file_name))\n",
    "            \n",
    "            # Create the directory for the file if it doesn't exist\n",
    "            script_file.write(f\"mkdir -p \\\"$(dirname \\\"{file_path}\\\")\\\"\\n\")\n",
    "            # Create an empty file\n",
    "            script_file.write(f\"touch \\\"{file_path}\\\"\\n\")\n",
    "            script_file.write(f\"echo \\\"File created: {file_path}\\\"\\n\")\n",
    "\n",
    "            # Read the contents of the file and write them to the script\n",
    "            with open(file_path, \"r\", errors=\"ignore\") as file_content:\n",
    "                script_file.write(f\"cat << 'EOF' > \\\"{file_path}\\\"\\n\")\n",
    "                script_file.write(file_content.read())  # Write the file content\n",
    "                script_file.write(\"\\nEOF\\n\")\n",
    "                script_file.write(f\"echo \\\"File content added: {file_path}\\\"\\n\\n\")\n",
    "\n",
    "# Make the generated script executable\n",
    "os.chmod(output_script, 0o755)\n",
    "\n",
    "print(f\"Script '{output_script}' has been generated successfully.\")\n"
   ]
  }
 ],
 "metadata": {
  "kernelspec": {
   "display_name": "Python 3",
   "language": "python",
   "name": "python3"
  },
  "language_info": {
   "codemirror_mode": {
    "name": "ipython",
    "version": 3
   },
   "file_extension": ".py",
   "mimetype": "text/x-python",
   "name": "python",
   "nbconvert_exporter": "python",
   "pygments_lexer": "ipython3",
   "version": "3.12.4"
  }
 },
 "nbformat": 4,
 "nbformat_minor": 2
}
